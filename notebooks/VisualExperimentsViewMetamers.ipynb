{
 "cells": [
  {
   "cell_type": "code",
   "execution_count": 1,
   "metadata": {
    "ExecuteTime": {
     "end_time": "2023-10-31T17:00:43.379015141Z",
     "start_time": "2023-10-31T17:00:42.543784110Z"
    }
   },
   "outputs": [
    {
     "ename": "ValueError",
     "evalue": "libcublas.so.*[0-9] not found in the system path ['/home/lukas/Documents/test/model_metamers_pytorch/notebooks', '/home/lukas/Documents/test/model_metamers_pytorch', '/usr/lib64/python311.zip', '/usr/lib64/python3.11', '/usr/lib64/python3.11/lib-dynload', '', '/home/lukas/.cache/pypoetry/virtualenvs/model-metamers-pytorch-vG_e6rTn-py3.11/lib64/python3.11/site-packages', '/home/lukas/.cache/pypoetry/virtualenvs/model-metamers-pytorch-vG_e6rTn-py3.11/lib/python3.11/site-packages']",
     "output_type": "error",
     "traceback": [
      "\u001B[0;31m---------------------------------------------------------------------------\u001B[0m",
      "\u001B[0;31mOSError\u001B[0m                                   Traceback (most recent call last)",
      "File \u001B[0;32m~/.cache/pypoetry/virtualenvs/model-metamers-pytorch-vG_e6rTn-py3.11/lib64/python3.11/site-packages/torch/__init__.py:174\u001B[0m, in \u001B[0;36m_load_global_deps\u001B[0;34m()\u001B[0m\n\u001B[1;32m    173\u001B[0m \u001B[38;5;28;01mtry\u001B[39;00m:\n\u001B[0;32m--> 174\u001B[0m     \u001B[43mctypes\u001B[49m\u001B[38;5;241;43m.\u001B[39;49m\u001B[43mCDLL\u001B[49m\u001B[43m(\u001B[49m\u001B[43mlib_path\u001B[49m\u001B[43m,\u001B[49m\u001B[43m \u001B[49m\u001B[43mmode\u001B[49m\u001B[38;5;241;43m=\u001B[39;49m\u001B[43mctypes\u001B[49m\u001B[38;5;241;43m.\u001B[39;49m\u001B[43mRTLD_GLOBAL\u001B[49m\u001B[43m)\u001B[49m\n\u001B[1;32m    175\u001B[0m \u001B[38;5;28;01mexcept\u001B[39;00m \u001B[38;5;167;01mOSError\u001B[39;00m \u001B[38;5;28;01mas\u001B[39;00m err:\n\u001B[1;32m    176\u001B[0m     \u001B[38;5;66;03m# Can only happen for wheel with cuda libs as PYPI deps\u001B[39;00m\n\u001B[1;32m    177\u001B[0m     \u001B[38;5;66;03m# As PyTorch is not purelib, but nvidia-*-cu12 is\u001B[39;00m\n",
      "File \u001B[0;32m/usr/lib64/python3.11/ctypes/__init__.py:376\u001B[0m, in \u001B[0;36mCDLL.__init__\u001B[0;34m(self, name, mode, handle, use_errno, use_last_error, winmode)\u001B[0m\n\u001B[1;32m    375\u001B[0m \u001B[38;5;28;01mif\u001B[39;00m handle \u001B[38;5;129;01mis\u001B[39;00m \u001B[38;5;28;01mNone\u001B[39;00m:\n\u001B[0;32m--> 376\u001B[0m     \u001B[38;5;28mself\u001B[39m\u001B[38;5;241m.\u001B[39m_handle \u001B[38;5;241m=\u001B[39m \u001B[43m_dlopen\u001B[49m\u001B[43m(\u001B[49m\u001B[38;5;28;43mself\u001B[39;49m\u001B[38;5;241;43m.\u001B[39;49m\u001B[43m_name\u001B[49m\u001B[43m,\u001B[49m\u001B[43m \u001B[49m\u001B[43mmode\u001B[49m\u001B[43m)\u001B[49m\n\u001B[1;32m    377\u001B[0m \u001B[38;5;28;01melse\u001B[39;00m:\n",
      "\u001B[0;31mOSError\u001B[0m: libcufft.so.11: cannot open shared object file: No such file or directory",
      "\nDuring handling of the above exception, another exception occurred:\n",
      "\u001B[0;31mValueError\u001B[0m                                Traceback (most recent call last)",
      "Cell \u001B[0;32mIn[1], line 5\u001B[0m\n\u001B[1;32m      3\u001B[0m get_ipython()\u001B[38;5;241m.\u001B[39mrun_line_magic(\u001B[38;5;124m'\u001B[39m\u001B[38;5;124mmatplotlib\u001B[39m\u001B[38;5;124m'\u001B[39m, \u001B[38;5;124m'\u001B[39m\u001B[38;5;124minline\u001B[39m\u001B[38;5;124m'\u001B[39m)\n\u001B[1;32m      4\u001B[0m \u001B[38;5;28;01mimport\u001B[39;00m \u001B[38;5;21;01murllib\u001B[39;00m\u001B[38;5;21;01m.\u001B[39;00m\u001B[38;5;21;01mrequest\u001B[39;00m\u001B[38;5;241m,\u001B[39m \u001B[38;5;21;01mjson\u001B[39;00m \n\u001B[0;32m----> 5\u001B[0m \u001B[38;5;28;01mfrom\u001B[39;00m \u001B[38;5;21;01mmodel_analysis_folders\u001B[39;00m \u001B[38;5;28;01mimport\u001B[39;00m all_model_info\n\u001B[1;32m      7\u001B[0m \u001B[38;5;28;01mfrom\u001B[39;00m \u001B[38;5;21;01mIPython\u001B[39;00m\u001B[38;5;21;01m.\u001B[39;00m\u001B[38;5;21;01mdisplay\u001B[39;00m \u001B[38;5;28;01mimport\u001B[39;00m Image\n\u001B[1;32m      8\u001B[0m \u001B[38;5;28;01mfrom\u001B[39;00m \u001B[38;5;21;01mIPython\u001B[39;00m\u001B[38;5;21;01m.\u001B[39;00m\u001B[38;5;21;01mcore\u001B[39;00m\u001B[38;5;21;01m.\u001B[39;00m\u001B[38;5;21;01mdisplay\u001B[39;00m \u001B[38;5;28;01mimport\u001B[39;00m HTML \n",
      "File \u001B[0;32m~/Documents/test/model_metamers_pytorch/model_analysis_folders/all_model_info.py:7\u001B[0m\n\u001B[1;32m      5\u001B[0m VISION_TURK_WEB_PATH \u001B[38;5;241m=\u001B[39m \u001B[38;5;124m'\u001B[39m\u001B[38;5;124mhttps://mcdermottlab.mit.edu/mturk_stimuli/imagerec_robust_models_v1/\u001B[39m\u001B[38;5;124m'\u001B[39m\n\u001B[1;32m      6\u001B[0m AUDIO_TURK_WEB_PATH \u001B[38;5;241m=\u001B[39m \u001B[38;5;124m'\u001B[39m\u001B[38;5;124mhttps://mcdermottlab.mit.edu/mturk_stimuli/audio_word_rec_metamers/\u001B[39m\u001B[38;5;124m'\u001B[39m\n\u001B[0;32m----> 7\u001B[0m \u001B[38;5;28;01mfrom\u001B[39;00m \u001B[38;5;21;01manalysis_scripts\u001B[39;00m\u001B[38;5;21;01m.\u001B[39;00m\u001B[38;5;21;01mdefault_paths\u001B[39;00m \u001B[38;5;28;01mimport\u001B[39;00m IMAGENET_PATH, JSIN_PATH\n\u001B[1;32m      8\u001B[0m \u001B[38;5;66;03m# Experiment groupings\u001B[39;00m\n\u001B[1;32m      9\u001B[0m \u001B[38;5;66;03m# Run all experiments out of the same www folder, but have different folders for the image sets\u001B[39;00m\n\u001B[1;32m     10\u001B[0m \n\u001B[1;32m     11\u001B[0m \u001B[38;5;66;03m# Note: the experiment numbers here are different than in the paper due to changed naming conventions when\u001B[39;00m\n\u001B[1;32m     12\u001B[0m \u001B[38;5;66;03m# writing the paper. The paper name is included in \"paper_experiment_name\". \u001B[39;00m\n\u001B[1;32m     13\u001B[0m TURK_IMAGE_EXPERIMENTS_GROUPINGS \u001B[38;5;241m=\u001B[39m {\u001B[38;5;124m'\u001B[39m\u001B[38;5;124mexperiment_1\u001B[39m\u001B[38;5;124m'\u001B[39m: {\u001B[38;5;124m'\u001B[39m\u001B[38;5;124mnetworks\u001B[39m\u001B[38;5;124m'\u001B[39m: [\u001B[38;5;124m'\u001B[39m\u001B[38;5;124mcornet_s\u001B[39m\u001B[38;5;124m'\u001B[39m, \u001B[38;5;124m'\u001B[39m\u001B[38;5;124malexnet\u001B[39m\u001B[38;5;124m'\u001B[39m, \u001B[38;5;124m'\u001B[39m\u001B[38;5;124mvgg_19\u001B[39m\u001B[38;5;124m'\u001B[39m, \u001B[38;5;124m'\u001B[39m\u001B[38;5;124mresnet50\u001B[39m\u001B[38;5;124m'\u001B[39m, \u001B[38;5;124m'\u001B[39m\u001B[38;5;124mresnet101\u001B[39m\u001B[38;5;124m'\u001B[39m],\n\u001B[1;32m     14\u001B[0m                                                      \u001B[38;5;124m'\u001B[39m\u001B[38;5;124mexperiment_folder\u001B[39m\u001B[38;5;124m'\u001B[39m: \u001B[38;5;124m'\u001B[39m\u001B[38;5;124m/mindhive/mcdermott/www/mturk_stimuli/imagerec_robust_models_v1/experiment_images\u001B[39m\u001B[38;5;124m'\u001B[39m,\n\u001B[1;32m     15\u001B[0m                                                      \u001B[38;5;124m'\u001B[39m\u001B[38;5;124mexperiment_folder_web\u001B[39m\u001B[38;5;124m'\u001B[39m:VISION_TURK_WEB_PATH \u001B[38;5;241m+\u001B[39m \u001B[38;5;124m'\u001B[39m\u001B[38;5;124mexperiment_images\u001B[39m\u001B[38;5;124m'\u001B[39m,\n\u001B[0;32m   (...)\u001B[0m\n\u001B[1;32m     62\u001B[0m                                                      \u001B[38;5;124m'\u001B[39m\u001B[38;5;124mpaper_experiment_name\u001B[39m\u001B[38;5;124m'\u001B[39m:\u001B[38;5;124m'\u001B[39m\u001B[38;5;124mVisual Experiment 4 (IPCL AlexNetGN)\u001B[39m\u001B[38;5;124m'\u001B[39m},\n\u001B[1;32m     63\u001B[0m                                    }\n",
      "File \u001B[0;32m~/Documents/test/model_metamers_pytorch/analysis_scripts/__init__.py:1\u001B[0m\n\u001B[0;32m----> 1\u001B[0m \u001B[38;5;28;01mfrom\u001B[39;00m \u001B[38;5;21;01m.\u001B[39;00m \u001B[38;5;28;01mimport\u001B[39;00m make_null_distributions\n\u001B[1;32m      2\u001B[0m \u001B[38;5;28;01mfrom\u001B[39;00m \u001B[38;5;21;01m.\u001B[39;00m \u001B[38;5;28;01mimport\u001B[39;00m make_metamers_wsj400_behavior_only_save_metamer_layers\n\u001B[1;32m      3\u001B[0m \u001B[38;5;28;01mfrom\u001B[39;00m \u001B[38;5;21;01m.\u001B[39;00m \u001B[38;5;28;01mimport\u001B[39;00m make_metamers_imagenet_16_category_val_400_only_save_metamer_layers\n",
      "File \u001B[0;32m~/Documents/test/model_metamers_pytorch/analysis_scripts/make_null_distributions.py:7\u001B[0m\n\u001B[1;32m      1\u001B[0m \u001B[38;5;124;03m\"\"\"\u001B[39;00m\n\u001B[1;32m      2\u001B[0m \u001B[38;5;124;03mCreates a null distribution for a model created with a build_network.py file from robust audio. \u001B[39;00m\n\u001B[1;32m      3\u001B[0m \n\u001B[1;32m      4\u001B[0m \u001B[38;5;124;03mWorks for both image and audio clips, using the dataset and augmentations that are specified in the build_network.py file. \u001B[39;00m\n\u001B[1;32m      5\u001B[0m \u001B[38;5;124;03m\"\"\"\u001B[39;00m\n\u001B[0;32m----> 7\u001B[0m \u001B[38;5;28;01mimport\u001B[39;00m \u001B[38;5;21;01mtorch\u001B[39;00m\n\u001B[1;32m      9\u001B[0m \u001B[38;5;28;01mfrom\u001B[39;00m \u001B[38;5;21;01mrobustness\u001B[39;00m\u001B[38;5;21;01m.\u001B[39;00m\u001B[38;5;21;01mtools\u001B[39;00m\u001B[38;5;21;01m.\u001B[39;00m\u001B[38;5;21;01mdistance_measures\u001B[39;00m \u001B[38;5;28;01mimport\u001B[39;00m \u001B[38;5;241m*\u001B[39m\n\u001B[1;32m     11\u001B[0m \u001B[38;5;28;01mfrom\u001B[39;00m \u001B[38;5;21;01mmatplotlib\u001B[39;00m \u001B[38;5;28;01mimport\u001B[39;00m pylab \u001B[38;5;28;01mas\u001B[39;00m plt\n",
      "File \u001B[0;32m~/.cache/pypoetry/virtualenvs/model-metamers-pytorch-vG_e6rTn-py3.11/lib64/python3.11/site-packages/torch/__init__.py:234\u001B[0m\n\u001B[1;32m    223\u001B[0m \u001B[38;5;28;01melse\u001B[39;00m:\n\u001B[1;32m    224\u001B[0m     \u001B[38;5;66;03m# Easy way.  You want this most of the time, because it will prevent\u001B[39;00m\n\u001B[1;32m    225\u001B[0m     \u001B[38;5;66;03m# C++ symbols from libtorch clobbering C++ symbols from other\u001B[39;00m\n\u001B[0;32m   (...)\u001B[0m\n\u001B[1;32m    231\u001B[0m     \u001B[38;5;66;03m#\u001B[39;00m\n\u001B[1;32m    232\u001B[0m     \u001B[38;5;66;03m# See Note [Global dependencies]\u001B[39;00m\n\u001B[1;32m    233\u001B[0m     \u001B[38;5;28;01mif\u001B[39;00m USE_GLOBAL_DEPS:\n\u001B[0;32m--> 234\u001B[0m         \u001B[43m_load_global_deps\u001B[49m\u001B[43m(\u001B[49m\u001B[43m)\u001B[49m\n\u001B[1;32m    235\u001B[0m     \u001B[38;5;28;01mfrom\u001B[39;00m \u001B[38;5;21;01mtorch\u001B[39;00m\u001B[38;5;21;01m.\u001B[39;00m\u001B[38;5;21;01m_C\u001B[39;00m \u001B[38;5;28;01mimport\u001B[39;00m \u001B[38;5;241m*\u001B[39m  \u001B[38;5;66;03m# noqa: F403\u001B[39;00m\n\u001B[1;32m    237\u001B[0m \u001B[38;5;66;03m# Appease the type checker; ordinarily this binding is inserted by the\u001B[39;00m\n\u001B[1;32m    238\u001B[0m \u001B[38;5;66;03m# torch._C module initialization code in C\u001B[39;00m\n",
      "File \u001B[0;32m~/.cache/pypoetry/virtualenvs/model-metamers-pytorch-vG_e6rTn-py3.11/lib64/python3.11/site-packages/torch/__init__.py:195\u001B[0m, in \u001B[0;36m_load_global_deps\u001B[0;34m()\u001B[0m\n\u001B[1;32m    193\u001B[0m     \u001B[38;5;28;01mraise\u001B[39;00m err\n\u001B[1;32m    194\u001B[0m \u001B[38;5;28;01mfor\u001B[39;00m lib_folder, lib_name \u001B[38;5;129;01min\u001B[39;00m cuda_libs\u001B[38;5;241m.\u001B[39mitems():\n\u001B[0;32m--> 195\u001B[0m     \u001B[43m_preload_cuda_deps\u001B[49m\u001B[43m(\u001B[49m\u001B[43mlib_folder\u001B[49m\u001B[43m,\u001B[49m\u001B[43m \u001B[49m\u001B[43mlib_name\u001B[49m\u001B[43m)\u001B[49m\n\u001B[1;32m    196\u001B[0m ctypes\u001B[38;5;241m.\u001B[39mCDLL(lib_path, mode\u001B[38;5;241m=\u001B[39mctypes\u001B[38;5;241m.\u001B[39mRTLD_GLOBAL)\n",
      "File \u001B[0;32m~/.cache/pypoetry/virtualenvs/model-metamers-pytorch-vG_e6rTn-py3.11/lib64/python3.11/site-packages/torch/__init__.py:160\u001B[0m, in \u001B[0;36m_preload_cuda_deps\u001B[0;34m(lib_folder, lib_name)\u001B[0m\n\u001B[1;32m    158\u001B[0m         \u001B[38;5;28;01mbreak\u001B[39;00m\n\u001B[1;32m    159\u001B[0m \u001B[38;5;28;01mif\u001B[39;00m \u001B[38;5;129;01mnot\u001B[39;00m lib_path:\n\u001B[0;32m--> 160\u001B[0m     \u001B[38;5;28;01mraise\u001B[39;00m \u001B[38;5;167;01mValueError\u001B[39;00m(\u001B[38;5;124mf\u001B[39m\u001B[38;5;124m\"\u001B[39m\u001B[38;5;132;01m{\u001B[39;00mlib_name\u001B[38;5;132;01m}\u001B[39;00m\u001B[38;5;124m not found in the system path \u001B[39m\u001B[38;5;132;01m{\u001B[39;00msys\u001B[38;5;241m.\u001B[39mpath\u001B[38;5;132;01m}\u001B[39;00m\u001B[38;5;124m\"\u001B[39m)\n\u001B[1;32m    161\u001B[0m ctypes\u001B[38;5;241m.\u001B[39mCDLL(lib_path)\n",
      "\u001B[0;31mValueError\u001B[0m: libcublas.so.*[0-9] not found in the system path ['/home/lukas/Documents/test/model_metamers_pytorch/notebooks', '/home/lukas/Documents/test/model_metamers_pytorch', '/usr/lib64/python311.zip', '/usr/lib64/python3.11', '/usr/lib64/python3.11/lib-dynload', '', '/home/lukas/.cache/pypoetry/virtualenvs/model-metamers-pytorch-vG_e6rTn-py3.11/lib64/python3.11/site-packages', '/home/lukas/.cache/pypoetry/virtualenvs/model-metamers-pytorch-vG_e6rTn-py3.11/lib/python3.11/site-packages']"
     ]
    }
   ],
   "source": [
    "from ipywidgets import widgets, interactive\n",
    "import matplotlib.pyplot as plt\n",
    "%matplotlib inline\n",
    "import urllib.request, json \n",
    "from model_analysis_folders import all_model_info\n",
    "\n",
    "from IPython.display import Image\n",
    "from IPython.core.display import HTML \n",
    "\n",
    "from IPython.core.display import display, HTML\n",
    "# display(HTML(\"<style>div.output_scroll { height: 100em; }</style>\"))\n",
    "\n",
    "\n",
    "# Render the plots with latex, and we can't do that will illustrator friendly fonts...\n",
    "# import matplotlib\n",
    "# matplotlib.rcParams['pdf.fonttype'] = 42\n",
    "# matplotlib.rcParams['ps.fonttype'] = 42\n",
    "# plt.rcParams.update({\n",
    "#     \"text.usetex\": True,\n",
    "#     \"font.family\": \"sans-serif\",\n",
    "#     \"font.sans-serif\": [\"Helvetica\"]})\n",
    "\n",
    "from notebook_helpers import display_all_visual_models_for_experiment\n",
    "from notebook_helpers import visual_experiment_dict_by_name\n",
    "        "
   ]
  },
  {
   "cell_type": "markdown",
   "metadata": {},
   "source": [
    "# Visual Experiment Example Metamers\n",
    "\n",
    "Choose an experiment and an example IDX. \n",
    "\n",
    "The example metamer is shown for each layer and each mdoel included in the experiment.  \n",
    "\n",
    "Example are loaded from the web and may take a few seconds (even a minute) to load\n",
    "\n",
    "If an image did not pass optimization criteria and was missing from the experiment it will not be shown (but the path will be printed). For the HMAX experiment, only 200 images were used rather than 400, so half of the images will be missing. \n",
    "\n",
    "See `notebook_helpers.py` for the functions used for loading the images. "
   ]
  },
  {
   "cell_type": "code",
   "execution_count": 2,
   "metadata": {
    "scrolled": false
   },
   "outputs": [
    {
     "data": {
      "application/vnd.jupyter.widget-view+json": {
       "model_id": "6191bc2defba4de3b8abe9a8742fe26a",
       "version_major": 2,
       "version_minor": 0
      },
      "text/plain": [
       "interactive(children=(Dropdown(description='exp_name', options=('Visual Experiment 1 (Standard Models, Figure …"
      ]
     },
     "metadata": {},
     "output_type": "display_data"
    },
    {
     "data": {
      "text/plain": [
       "<function notebook_helpers.display_all_visual_models_for_experiment(exp_name, example_idx)>"
      ]
     },
     "execution_count": 2,
     "metadata": {},
     "output_type": "execute_result"
    }
   ],
   "source": [
    "example_idx = range(0,399)\n",
    "widgets.interact(display_all_visual_models_for_experiment, \n",
    "                 exp_name=list(visual_experiment_dict_by_name.keys()),\n",
    "                 example_idx=example_idx, \n",
    "                 )"
   ]
  },
  {
   "cell_type": "code",
   "execution_count": null,
   "metadata": {},
   "outputs": [],
   "source": []
  }
 ],
 "metadata": {
  "kernelspec": {
   "display_name": "Python 3",
   "language": "python",
   "name": "python3"
  },
  "language_info": {
   "codemirror_mode": {
    "name": "ipython",
    "version": 3
   },
   "file_extension": ".py",
   "mimetype": "text/x-python",
   "name": "python",
   "nbconvert_exporter": "python",
   "pygments_lexer": "ipython3",
   "version": "3.8.2"
  }
 },
 "nbformat": 4,
 "nbformat_minor": 4
}
