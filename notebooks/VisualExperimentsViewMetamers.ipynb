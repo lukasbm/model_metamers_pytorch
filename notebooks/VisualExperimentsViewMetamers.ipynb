{
 "cells": [
  {
   "cell_type": "code",
   "execution_count": 1,
   "metadata": {
    "ExecuteTime": {
     "end_time": "2023-11-25T10:48:06.602318179Z",
     "start_time": "2023-11-25T10:48:04.925013524Z"
    }
   },
   "outputs": [],
   "source": [
    "from ipywidgets import widgets\n",
    "%matplotlib inline\n",
    "\n",
    "# display(HTML(\"<style>div.output_scroll { height: 100em; }</style>\"))\n",
    "\n",
    "\n",
    "# Render the plots with latex, and we can't do that with illustrator friendly fonts...\n",
    "# import matplotlib\n",
    "# matplotlib.rcParams['pdf.fonttype'] = 42\n",
    "# matplotlib.rcParams['ps.fonttype'] = 42\n",
    "# plt.rcParams.update({\n",
    "#     \"text.usetex\": True,\n",
    "#     \"font.family\": \"sans-serif\",\n",
    "#     \"font.sans-serif\": [\"Helvetica\"]})\n",
    "\n",
    "from notebook_helpers import display_all_visual_models_for_experiment\n",
    "from notebook_helpers import visual_experiment_dict_by_name\n"
   ]
  },
  {
   "cell_type": "markdown",
   "metadata": {},
   "source": [
    "# Visual Experiment Example Metamers\n",
    "\n",
    "Choose an experiment and an example IDX. \n",
    "\n",
    "The example metamer is shown for each layer and each mdoel included in the experiment.  \n",
    "\n",
    "Example are loaded from the web and may take a few seconds (even a minute) to load\n",
    "\n",
    "If an image did not pass optimization criteria and was missing from the experiment it will not be shown (but the path will be printed). For the HMAX experiment, only 200 images were used rather than 400, so half of the images will be missing. \n",
    "\n",
    "See `notebook_helpers.py` for the functions used for loading the images. "
   ]
  },
  {
   "cell_type": "code",
   "execution_count": 2,
   "metadata": {
    "scrolled": false,
    "ExecuteTime": {
     "end_time": "2023-11-25T10:48:19.523167762Z",
     "start_time": "2023-11-25T10:48:17.917097988Z"
    }
   },
   "outputs": [
    {
     "data": {
      "text/plain": "<Figure size 4000x2400 with 1 Axes>",
      "image/png": "[encoded data removed]"
     },
     "metadata": {},
     "output_type": "display_data"
    },
    {
     "data": {
      "text/plain": "interactive(children=(Dropdown(description='exp_name', options=('Visual Experiment 1 (Standard Models, Figure …",
      "application/vnd.jupyter.widget-view+json": {
       "version_major": 2,
       "version_minor": 0,
       "model_id": "0949a436cd264106a77915ddbf292f22"
      }
     },
     "metadata": {},
     "output_type": "display_data"
    },
    {
     "data": {
      "text/plain": "<function notebook_helpers.display_all_visual_models_for_experiment(exp_name, example_idx)>"
     },
     "execution_count": 2,
     "metadata": {},
     "output_type": "execute_result"
    }
   ],
   "source": [
    "example_idx = range(0, 399)\n",
    "widgets.interact(display_all_visual_models_for_experiment,\n",
    "                 exp_name=list(visual_experiment_dict_by_name.keys()),\n",
    "                 example_idx=example_idx,\n",
    "                 )"
   ]
  }
 ],
 "metadata": {
  "kernelspec": {
   "display_name": "Python 3",
   "language": "python",
   "name": "python3"
  },
  "language_info": {
   "codemirror_mode": {
    "name": "ipython",
    "version": 3
   },
   "file_extension": ".py",
   "mimetype": "text/x-python",
   "name": "python",
   "nbconvert_exporter": "python",
   "pygments_lexer": "ipython3",
   "version": "3.8.2"
  }
 },
 "nbformat": 4,
 "nbformat_minor": 4
}
