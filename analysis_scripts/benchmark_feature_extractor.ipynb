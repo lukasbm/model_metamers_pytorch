{
 "cells": [
  {
   "cell_type": "code",
   "execution_count": 1,
   "id": "initial_id",
   "metadata": {
    "collapsed": true,
    "ExecuteTime": {
     "end_time": "2023-12-07T09:09:22.350995399Z",
     "start_time": "2023-12-07T09:08:20.306468764Z"
    }
   },
   "outputs": [],
   "source": [
    "import torch\n",
    "\n",
    "from model_analysis_folders.visual_networks.resnet50.build_network import build_net\n",
    "from robustness.attacker import AttackerModel\n",
    "\n",
    "attacker_model, _ = build_net()\n",
    "attacker_model: AttackerModel = attacker_model"
   ]
  },
  {
   "cell_type": "code",
   "execution_count": 3,
   "outputs": [],
   "source": [
    "# create input data\n",
    "inp = torch.randn(1, 3, 224, 224).cuda()"
   ],
   "metadata": {
    "collapsed": false,
    "ExecuteTime": {
     "end_time": "2023-12-07T09:09:22.805128950Z",
     "start_time": "2023-12-07T09:09:22.391732532Z"
    }
   },
   "id": "20b2bc6068e8670"
  },
  {
   "cell_type": "code",
   "execution_count": 4,
   "outputs": [],
   "source": [
    "def run_inference():\n",
    "    attacker_model(inp, with_latent=True)"
   ],
   "metadata": {
    "collapsed": false,
    "ExecuteTime": {
     "end_time": "2023-12-07T09:09:23.229832303Z",
     "start_time": "2023-12-07T09:09:22.806803546Z"
    }
   },
   "id": "748c5300e05ed166"
  },
  {
   "cell_type": "code",
   "execution_count": 5,
   "outputs": [
    {
     "name": "stdout",
     "output_type": "stream",
     "text": [
      "5.39 ms ± 898 µs per loop (mean ± std. dev. of 10 runs, 1,000 loops each)\n"
     ]
    }
   ],
   "source": [
    "%timeit -r 10 -n 1000 run_inference()"
   ],
   "metadata": {
    "collapsed": false,
    "ExecuteTime": {
     "end_time": "2023-12-07T09:10:20.620442652Z",
     "start_time": "2023-12-07T09:09:23.230575222Z"
    }
   },
   "id": "869b27a58c586cf4"
  },
  {
   "cell_type": "code",
   "execution_count": 6,
   "outputs": [
    {
     "data": {
      "text/plain": "25557032"
     },
     "execution_count": 6,
     "metadata": {},
     "output_type": "execute_result"
    }
   ],
   "source": [
    "def count_parameters(model):\n",
    "    return sum(p.numel() for p in model.parameters() if p.requires_grad)\n",
    "\n",
    "\n",
    "count_parameters(attacker_model.model)"
   ],
   "metadata": {
    "collapsed": false,
    "ExecuteTime": {
     "end_time": "2023-12-07T09:10:20.834271876Z",
     "start_time": "2023-12-07T09:10:20.403028627Z"
    }
   },
   "id": "b43b862f46a2c2e7"
  }
 ],
 "metadata": {
  "kernelspec": {
   "display_name": "Python 3",
   "language": "python",
   "name": "python3"
  },
  "language_info": {
   "codemirror_mode": {
    "name": "ipython",
    "version": 2
   },
   "file_extension": ".py",
   "mimetype": "text/x-python",
   "name": "python",
   "nbconvert_exporter": "python",
   "pygments_lexer": "ipython2",
   "version": "2.7.6"
  }
 },
 "nbformat": 4,
 "nbformat_minor": 5
}
