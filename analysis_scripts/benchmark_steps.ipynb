{
 "cells": [
  {
   "cell_type": "code",
   "execution_count": 1,
   "outputs": [],
   "source": [
    "import torch\n",
    "\n",
    "from model_analysis_folders.visual_networks.resnet50.build_network import build_net\n",
    "from robustness.attacker import AttackerModel\n",
    "\n",
    "attacker_model, _ = build_net()\n",
    "attacker_model: AttackerModel = attacker_model.eval().cuda()"
   ],
   "metadata": {
    "collapsed": false,
    "ExecuteTime": {
     "end_time": "2023-12-10T13:41:03.121091492Z",
     "start_time": "2023-12-10T13:41:00.417417210Z"
    }
   },
   "id": "a41f7206e148b580"
  },
  {
   "cell_type": "code",
   "execution_count": 2,
   "outputs": [],
   "source": [
    "# create input data (reference_image)\n",
    "inp = torch.randn(10, 3, 224, 224).cuda()\n",
    "\n",
    "layer_to_invert = \"layer4\"\n",
    "step_size = 0.5\n",
    "iterations = 100"
   ],
   "metadata": {
    "collapsed": false,
    "ExecuteTime": {
     "end_time": "2023-12-10T13:41:03.131476169Z",
     "start_time": "2023-12-10T13:41:03.122260009Z"
    }
   },
   "id": "d95fe05483662ff2"
  },
  {
   "cell_type": "code",
   "execution_count": 3,
   "id": "initial_id",
   "metadata": {
    "collapsed": true,
    "ExecuteTime": {
     "end_time": "2023-12-10T13:41:03.136982696Z",
     "start_time": "2023-12-10T13:41:03.131892488Z"
    }
   },
   "outputs": [],
   "source": [
    "from robustness.custom_synthesis_losses import InversionLossLayer\n",
    "\n",
    "synth_kwargs = {\n",
    "    # same simple loss as in the paper\n",
    "    'custom_loss': InversionLossLayer(layer_to_invert, normalize_loss=True),\n",
    "    'constraint': '2',  # norm constraint. L2, L_inf, etc.\n",
    "    'eps': 100000,  # why this high? this is weird, usually 8/255 or some is used\n",
    "    'step_size': step_size,  # essentially works like learning rate. halved every 3000 iterations (default: 1.0)\n",
    "    'iterations': iterations,  # iterations to generate one adv example\n",
    "    'do_tqdm': False,\n",
    "    'targeted': True,\n",
    "    'use_best': False\n",
    "}"
   ]
  },
  {
   "cell_type": "code",
   "execution_count": 4,
   "outputs": [],
   "source": [
    "with torch.no_grad():\n",
    "    (reference_output, reference_representation, reference_activations), reference_image = attacker_model(\n",
    "        inp.cuda(), with_latent=True, fake_relu=True)\n",
    "\n",
    "inverted_reference_representation = reference_activations[layer_to_invert].contiguous().view(\n",
    "    reference_activations[layer_to_invert].size(0), -1)"
   ],
   "metadata": {
    "collapsed": false,
    "ExecuteTime": {
     "end_time": "2023-12-10T13:41:03.364476799Z",
     "start_time": "2023-12-10T13:41:03.135450290Z"
    }
   },
   "id": "af2683f60204d260"
  },
  {
   "cell_type": "code",
   "execution_count": 5,
   "outputs": [],
   "source": [
    "def run_steps():\n",
    "    attacker_model(\n",
    "        inp,\n",
    "        inverted_reference_representation.clone(),\n",
    "        make_adv=True,\n",
    "        **synth_kwargs,\n",
    "        with_latent=True,\n",
    "        fake_relu=True\n",
    "    )\n",
    "    print(\"done\")"
   ],
   "metadata": {
    "collapsed": false,
    "ExecuteTime": {
     "end_time": "2023-12-10T13:41:03.372689681Z",
     "start_time": "2023-12-10T13:41:03.367078303Z"
    }
   },
   "id": "c5d1f124accbde6a"
  },
  {
   "cell_type": "code",
   "execution_count": 6,
   "outputs": [
    {
     "name": "stdout",
     "output_type": "stream",
     "text": [
      "done\n",
      "done\n",
      "done\n",
      "done\n",
      "done\n",
      "done\n",
      "done\n",
      "done\n",
      "done\n",
      "done\n",
      "6.05 s ± 113 ms per loop (mean ± std. dev. of 10 runs, 1 loop each)\n"
     ]
    }
   ],
   "source": [
    "%timeit -r 10 -n 1 run_steps()"
   ],
   "metadata": {
    "collapsed": false,
    "ExecuteTime": {
     "end_time": "2023-12-10T13:42:03.957645016Z",
     "start_time": "2023-12-10T13:41:03.370977365Z"
    }
   },
   "id": "358619db50106898"
  },
  {
   "cell_type": "code",
   "execution_count": 7,
   "outputs": [
    {
     "data": {
      "text/plain": "25557032"
     },
     "execution_count": 7,
     "metadata": {},
     "output_type": "execute_result"
    }
   ],
   "source": [
    "def count_parameters(model):\n",
    "    return sum(p.numel() for p in model.parameters() if p.requires_grad)\n",
    "\n",
    "\n",
    "count_parameters(attacker_model.model)"
   ],
   "metadata": {
    "collapsed": false,
    "ExecuteTime": {
     "end_time": "2023-12-10T13:42:03.957972125Z",
     "start_time": "2023-12-10T13:42:03.957532506Z"
    }
   },
   "id": "e4b4f39b54a97765"
  }
 ],
 "metadata": {
  "kernelspec": {
   "display_name": "Python 3",
   "language": "python",
   "name": "python3"
  },
  "language_info": {
   "codemirror_mode": {
    "name": "ipython",
    "version": 2
   },
   "file_extension": ".py",
   "mimetype": "text/x-python",
   "name": "python",
   "nbconvert_exporter": "python",
   "pygments_lexer": "ipython2",
   "version": "2.7.6"
  }
 },
 "nbformat": 4,
 "nbformat_minor": 5
}
